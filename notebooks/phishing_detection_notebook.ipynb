{
 "cells": [
  {
   "cell_type": "markdown",
   "metadata": {},
   "source": [
    "# Phishing Detection Notebook\n",
    "\n",
    "This notebook walks through:\n",
    "\n",
    "- Loading and preprocessing phishing datasets.\n",
    "- Training Machine Learning (ML) and Artificial Intelligence (AI) models.\n",
    "- Evaluating YARA rules for phishing detection.\n"
   ]
  },
  {
   "cell_type": "code",
   "execution_count": null,
   "metadata": {
    "vscode": {
     "languageId": "plaintext"
    }
   },
   "outputs": [],
   "source": [
    "# Import necessary libraries\n",
    "import logging\n",
    "import pandas as pd\n",
    "from sklearn.model_selection import train_test_split\n",
    "from sklearn.utils import shuffle\n",
    "from src.detection.yara_rules.phishing_rules_loader import update_phishing_lists, compile_yara_rules\n",
    "from src.detection.phishing_ml_model import train_ml_model, evaluate_ml_model\n",
    "from src.detection.phishing_ai_model import build_ai_model, train_ai_model, evaluate_ai_model, plot_training_history\n",
    "from src.preprocessing.phishing_preprocessing import load_phishing_data, preprocess_domain_data, preprocess_url_data\n",
    "\n",
    "# Configure logging\n",
    "logging.basicConfig(level=logging.INFO, format=\"%(asctime)s - %(levelname)s - %(message)s\")\n"
   ]
  },
  {
   "cell_type": "code",
   "execution_count": null,
   "metadata": {
    "vscode": {
     "languageId": "plaintext"
    }
   },
   "outputs": [],
   "source": [
    "# Update phishing datasets and YARA rules\n",
    "logging.info(\"Updating phishing datasets and YARA rules...\")\n",
    "try:\n",
    "    update_phishing_lists()\n",
    "except Exception as e:\n",
    "    logging.error(f\"Error updating phishing datasets: {e}\")\n",
    "    raise\n"
   ]
  },
  {
   "cell_type": "code",
   "execution_count": null,
   "metadata": {
    "vscode": {
     "languageId": "plaintext"
    }
   },
   "outputs": [],
   "source": [
    "# Load datasets\n",
    "domain_file = \"data/phishing/domains.lst\"\n",
    "url_file = \"data/phishing/urls.lst\"\n",
    "logging.info(\"Loading datasets...\")\n",
    "domains, urls = load_phishing_data(domain_file, url_file)\n",
    "\n",
    "# Preprocess data\n",
    "logging.info(\"Preprocessing datasets...\")\n",
    "domains = preprocess_domain_data(domains)\n",
    "urls = preprocess_url_data(urls)\n"
   ]
  },
  {
   "cell_type": "code",
   "execution_count": null,
   "metadata": {
    "vscode": {
     "languageId": "plaintext"
    }
   },
   "outputs": [],
   "source": [
    "# Combine and shuffle datasets\n",
    "combined_features = pd.concat([domains, urls], ignore_index=True)\n",
    "combined_features = shuffle(combined_features, random_state=42)  # Shuffle data for better training\n",
    "\n",
    "# Prepare features and labels\n",
    "feature_columns = [\n",
    "    \"length\", \n",
    "    \"num_dots\", \n",
    "    \"has_suspicious_keywords\", \n",
    "    \"contains_ip\", \n",
    "    \"num_special_chars\", \n",
    "    \"has_encoded_chars\", \n",
    "    \"has_uncommon_tld\"\n",
    "]\n",
    "X = combined_features[feature_columns]\n",
    "y = [1] * len(X)  # Assuming all entries are phishing for simplicity; replace with true labels if available.\n"
   ]
  },
  {
   "cell_type": "code",
   "execution_count": null,
   "metadata": {
    "vscode": {
     "languageId": "plaintext"
    }
   },
   "outputs": [],
   "source": [
    "# Split data into training and testing sets\n",
    "X_train, X_test, y_train, y_test = train_test_split(X, y, test_size=0.2, random_state=42)\n",
    "\n",
    "# Train and evaluate the ML model\n",
    "logging.info(\"Training and evaluating the ML model...\")\n",
    "ml_model = train_ml_model(X_train, y_train)\n",
    "evaluate_ml_model(ml_model, X_test, y_test)\n",
    "\n",
    "# Train and evaluate the AI model\n",
    "logging.info(\"Training and evaluating the AI model...\")\n",
    "ai_model = build_ai_model(input_dim=X_train.shape[1])\n",
    "history = train_ai_model(ai_model, X_train, y_train, X_val=X_test, y_val=y_test)\n",
    "evaluate_ai_model(ai_model, X_test, y_test)\n",
    "\n",
    "# Plot training history\n",
    "logging.info(\"Plotting training history...\")\n",
    "plot_training_history(history)\n"
   ]
  },
  {
   "cell_type": "code",
   "execution_count": null,
   "metadata": {
    "vscode": {
     "languageId": "plaintext"
    }
   },
   "outputs": [],
   "source": [
    "# Compile and test YARA rules\n",
    "logging.info(\"Compiling and evaluating YARA rules...\")\n",
    "try:\n",
    "    yara_rules = compile_yara_rules()\n",
    "    sample_domain = \"secure-login.bank.com\"  # Replace with dynamic input if needed\n",
    "    matches = yara_rules.match(data=sample_domain)\n",
    "    logging.info(f\"YARA Matches for '{sample_domain}': {matches}\")\n",
    "except Exception as e:\n",
    "    logging.error(f\"Error in YARA rule evaluation: {e}\")\n"
   ]
  },
  {
   "cell_type": "code",
   "execution_count": null,
   "metadata": {
    "vscode": {
     "languageId": "plaintext"
    }
   },
   "outputs": [],
   "source": [
    "logging.info(\"Phishing detection pipeline completed.\")\n"
   ]
  }
 ],
 "metadata": {
  "language_info": {
   "name": "python"
  }
 },
 "nbformat": 4,
 "nbformat_minor": 2
}
