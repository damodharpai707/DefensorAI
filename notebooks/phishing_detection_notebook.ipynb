{
 "cells": [
  {
   "cell_type": "markdown",
   "metadata": {},
   "source": [
    "# DefensorAI: Phishing Detection Notebook\n",
    "\n",
    "This notebook demonstrates phishing detection using:\n",
    "- Rule-based algorithms\n",
    "- Machine Learning (ML) models\n",
    "- Deep Learning (AI) models\n",
    "- YARA-based detection\n"
   ]
  },
  {
   "cell_type": "code",
   "execution_count": null,
   "metadata": {
    "vscode": {
     "languageId": "plaintext"
    }
   },
   "outputs": [],
   "source": [
    "# Import necessary libraries\n",
    "import pandas as pd\n",
    "import numpy as np\n",
    "from sklearn.model_selection import train_test_split\n",
    "from src.detection.phishing_detection_algorithm import detect_phishing\n",
    "from src.detection.phishing_ml_model import train_ml_model, evaluate_ml_model\n",
    "from src.detection.phishing_ai_model import build_ai_model, train_ai_model, evaluate_ai_model\n",
    "from src.detection.phishing_rules_loader import compile_yara_rules\n",
    "from src.preprocessing.phishing_preprocessing import load_phishing_data, preprocess_data\n"
   ]
  },
  {
   "cell_type": "code",
   "execution_count": null,
   "metadata": {
    "vscode": {
     "languageId": "plaintext"
    }
   },
   "outputs": [],
   "source": [
    "# Rule-based phishing detection\n",
    "sample_domains = [\"secure-login.bank.com\", \"example.com\", \"phishing.bank.example\"]\n",
    "sample_urls = [\"http://secure-login.bank.com\", \"https://safe-site.example.com\"]\n",
    "\n",
    "print(\"\\n--- Rule-Based Domain Detection ---\")\n",
    "for domain in sample_domains:\n",
    "    print(f\"Domain: {domain}, Result: {detect_phishing(domain, 'domain')}\")\n",
    "\n",
    "print(\"\\n--- Rule-Based URL Detection ---\")\n",
    "for url in sample_urls:\n",
    "    print(f\"URL: {url}, Result: {detect_phishing(url, 'url')}\")\n"
   ]
  },
  {
   "cell_type": "code",
   "execution_count": null,
   "metadata": {
    "vscode": {
     "languageId": "plaintext"
    }
   },
   "outputs": [],
   "source": [
    "# Prepare features and labels\n",
    "X = domains[['length', 'num_dots', 'has_suspicious_keywords']]\n",
    "y = [1] * len(domains)  # Assuming all are phishing samples\n",
    "\n",
    "# Split data\n",
    "X_train, X_test, y_train, y_test = train_test_split(X, y, test_size=0.2, random_state=42)\n",
    "\n",
    "# Train ML model\n",
    "ml_model = train_ml_model(X_train, y_train)\n",
    "\n",
    "# Evaluate ML model\n",
    "print(\"\\n--- ML Model Evaluation ---\")\n",
    "evaluate_ml_model(ml_model, X_test, y_test)\n"
   ]
  },
  {
   "cell_type": "code",
   "execution_count": null,
   "metadata": {
    "vscode": {
     "languageId": "plaintext"
    }
   },
   "outputs": [],
   "source": [
    "# Build and train the AI model\n",
    "input_dim = X_train.shape[1]\n",
    "ai_model = build_ai_model(input_dim=input_dim)\n",
    "train_ai_model(ai_model, X_train, y_train)\n",
    "\n",
    "# Evaluate AI model\n",
    "print(\"\\n--- AI Model Evaluation ---\")\n",
    "evaluate_ai_model(ai_model, X_test, y_test)\n"
   ]
  },
  {
   "cell_type": "code",
   "execution_count": null,
   "metadata": {
    "vscode": {
     "languageId": "plaintext"
    }
   },
   "outputs": [],
   "source": [
    "# Compile and test YARA rules\n",
    "yara_rules = compile_yara_rules()\n",
    "\n",
    "# Test YARA rules on sample domains\n",
    "sample_data = [\"secure-login.bank.com\", \"example.com\", \"http://secure-login.bank.com\"]\n",
    "print(\"\\n--- YARA-Based Detection ---\")\n",
    "for data in sample_data:\n",
    "    matches = yara_rules.match(data=data)\n",
    "    print(f\"Data: {data}, Matches: {matches}\")\n"
   ]
  }
 ],
 "metadata": {
  "language_info": {
   "name": "python"
  }
 },
 "nbformat": 4,
 "nbformat_minor": 2
}
